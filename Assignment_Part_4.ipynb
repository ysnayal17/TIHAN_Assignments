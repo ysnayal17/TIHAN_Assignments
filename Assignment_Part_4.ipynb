{
  "nbformat": 4,
  "nbformat_minor": 0,
  "metadata": {
    "colab": {
      "provenance": [],
      "include_colab_link": true
    },
    "kernelspec": {
      "name": "python3",
      "display_name": "Python 3"
    },
    "language_info": {
      "name": "python"
    }
  },
  "cells": [
    {
      "cell_type": "markdown",
      "metadata": {
        "id": "view-in-github",
        "colab_type": "text"
      },
      "source": [
        "<a href=\"https://colab.research.google.com/github/ysnayal17/TIHAN_Assignments/blob/main/Assignment_Part_4.ipynb\" target=\"_parent\"><img src=\"https://colab.research.google.com/assets/colab-badge.svg\" alt=\"Open In Colab\"/></a>"
      ]
    },
    {
      "cell_type": "code",
      "execution_count": null,
      "metadata": {
        "id": "Fr5ZiUKkNg04"
      },
      "outputs": [],
      "source": []
    },
    {
      "cell_type": "markdown",
      "source": [
        "## **Topic 4: Functions (5 Questions)**\n",
        "\n",
        "---\n",
        "\n",
        "### **Q15. Function to Add Two Numbers**\n",
        "\n",
        "**Description:**\n",
        "\n",
        "Write a function that takes two numbers and returns their sum.\n",
        "\n",
        "We can store 2 numbers in variables `a` and `b` respectively.\n",
        "\n",
        "Note:\n",
        "\n",
        "- We can take input from the user using `input()`.\n",
        "- We can also directly take input as an Integer from the user using `int(input())`.\n",
        "\n",
        "**Input:**\n",
        "\n",
        "```\n",
        "\n",
        "  \n",
        "a = 5\n",
        "b = 7\n",
        "\n",
        "```\n",
        "\n",
        "**Output:**\n",
        "\n",
        "```\n",
        "  \n",
        "12\n",
        "\n",
        "```\n",
        "\n",
        "---\n",
        "\n"
      ],
      "metadata": {
        "id": "N9hQYk_yNhoy"
      }
    },
    {
      "cell_type": "code",
      "source": [
        "def add(a, b):\n",
        "  return a + b\n",
        "\n",
        "print(add(int(input()), int(input())))"
      ],
      "metadata": {
        "id": "WOsnM6hZNlne"
      },
      "execution_count": null,
      "outputs": []
    },
    {
      "cell_type": "markdown",
      "source": [
        "### **Q16. Function to Check Prime**\n",
        "\n",
        "**Description:**\n",
        "\n",
        "Write a function that checks whether a number is prime.\n",
        "\n",
        "We can store a given number in a variable name `n`.\n",
        "\n",
        "Note:\n",
        "\n",
        "- We can take input from the user using `input()`.\n",
        "- We can also directly take input as an Integer from the user using `int(input())`.\n",
        "\n",
        "**Input:**\n",
        "\n",
        "```\n",
        "\n",
        "  \n",
        "n = 7\n",
        "\n",
        "```\n",
        "\n",
        "**Output:**\n",
        "\n",
        "```\n",
        "\n",
        "  \n",
        "Prime\n",
        "\n",
        "```\n",
        "\n",
        "---\n",
        "\n"
      ],
      "metadata": {
        "id": "wGhzi4UDNmKN"
      }
    },
    {
      "cell_type": "code",
      "source": [],
      "metadata": {
        "id": "EBfcHOI0NpVU"
      },
      "execution_count": null,
      "outputs": []
    },
    {
      "cell_type": "markdown",
      "source": [
        "### **Q17. Real-World Use Case: Movie Ticket Calculator**\n",
        "\n",
        "**Description:**\n",
        "\n",
        "Write a function to calculate the total price of movie tickets given quantity and price per ticket.\n",
        "\n",
        "We can create a function with the parameters (quantity, price).\n",
        "\n",
        "Note:\n",
        "\n",
        "- We can take input from the user using `input()`.\n",
        "- We can also directly take input as an Integer from the user using `int(input())`.\n",
        "- We need to call the function in order to execute it on the given data.\n",
        "\n",
        "**Input:**\n",
        "\n",
        "```\n",
        "\n",
        "  \n",
        "quantity = 3\n",
        "price = 150\n",
        "\n",
        "```\n",
        "\n",
        "**Output:**\n",
        "\n",
        "```\n",
        "   \n",
        "  \n",
        "Total: 450\n",
        "\n",
        "```\n",
        "\n",
        "---\n",
        "\n"
      ],
      "metadata": {
        "id": "5_qxYZvlNp4J"
      }
    },
    {
      "cell_type": "code",
      "source": [],
      "metadata": {
        "id": "r6qeU3NPNtNY"
      },
      "execution_count": null,
      "outputs": []
    },
    {
      "cell_type": "markdown",
      "source": [
        "### **Q18. Real-World Use Case: Salary Bonus Calculator**\n",
        "\n",
        "**Description:**\n",
        "\n",
        "A company gives a **10% bonus** to employees. Write a function that takes salary and returns total salary after bonus.\n",
        "\n",
        "We can create a function with the parameter (salary).\n",
        "\n",
        "Note:\n",
        "\n",
        "- We can take input from the user using `input()`.\n",
        "- We can also directly take input as an Integer from the user using `int(input())`.\n",
        "- We need to call the function in order to execute it on the given data.\n",
        "\n",
        "**Input:**\n",
        "\n",
        "```\n",
        "\n",
        "  \n",
        "salary = 50000\n",
        "\n",
        "```\n",
        "\n",
        "**Output:**\n",
        "\n",
        "```\n",
        "  \n",
        "55000.0\n",
        "\n",
        "```\n",
        "\n",
        "---\n",
        "\n"
      ],
      "metadata": {
        "id": "R_vCjrTZNt76"
      }
    },
    {
      "cell_type": "code",
      "source": [],
      "metadata": {
        "id": "-rD-ZUGlNwrL"
      },
      "execution_count": null,
      "outputs": []
    },
    {
      "cell_type": "markdown",
      "source": [
        "### **Q19. Real-World Use Case: Taxi Fare Estimator**\n",
        "\n",
        "**Description:**\n",
        "\n",
        "Write a function that calculates taxi fare based on distance (₹10/km) and adds a fixed charge of ₹50.\n",
        "\n",
        "We can create a function with the parameter (distance) and then calculate the Taxi Fare based on the given condition.\n",
        "\n",
        "Note:\n",
        "\n",
        "- We can take input from the user using `input()`.\n",
        "- We can also directly take input as an Integer from the user using `int(input())`.\n",
        "- We need to call the function in order to execute it on the given data.\n",
        "\n",
        "**Input:**\n",
        "\n",
        "```\n",
        "\n",
        "  \n",
        "distance = 10\n",
        "\n",
        "```\n",
        "\n",
        "**Output:**\n",
        "\n",
        "```\n",
        "  \n",
        "150\n",
        "\n",
        "```\n",
        "\n",
        "---\n",
        "\n",
        "---\n",
        "\n"
      ],
      "metadata": {
        "id": "EOfLiRMHNxKf"
      }
    },
    {
      "cell_type": "code",
      "source": [],
      "metadata": {
        "id": "smw1IkfeN0TN"
      },
      "execution_count": null,
      "outputs": []
    },
    {
      "cell_type": "markdown",
      "source": [
        "## **Topic 5: NumPy (1 Question)**\n",
        "\n",
        "---\n",
        "\n",
        "### **Q20. Create NumPy Array and Find Mean**\n",
        "\n",
        "**Description:**\n",
        "\n",
        "Create a NumPy array from a list of integers and find its mean.\n",
        "\n",
        "We can create a numpy array name `arr`.\n",
        "\n",
        "Note:\n",
        "\n",
        "- We can take input from the user using `input()`.\n",
        "- We can also directly take input as an Integer from the user using `int(input())`.\n",
        "\n",
        "**Input:**\n",
        "\n",
        "```\n",
        "\n",
        "  \n",
        "arr = [10, 20, 30, 40, 50]\n",
        "\n",
        "```\n",
        "\n",
        "**Output:**\n",
        "\n",
        "```\n",
        "\n",
        "  \n",
        "Mean: 30.0\n",
        "\n",
        "```"
      ],
      "metadata": {
        "id": "fyo22dhWN1pL"
      }
    },
    {
      "cell_type": "code",
      "source": [],
      "metadata": {
        "id": "1gcr8wVSN16c"
      },
      "execution_count": null,
      "outputs": []
    }
  ]
}