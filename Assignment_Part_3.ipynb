{
  "nbformat": 4,
  "nbformat_minor": 0,
  "metadata": {
    "colab": {
      "provenance": [],
      "include_colab_link": true
    },
    "kernelspec": {
      "name": "python3",
      "display_name": "Python 3"
    },
    "language_info": {
      "name": "python"
    }
  },
  "cells": [
    {
      "cell_type": "markdown",
      "metadata": {
        "id": "view-in-github",
        "colab_type": "text"
      },
      "source": [
        "<a href=\"https://colab.research.google.com/github/ysnayal17/TIHAN_Assignments/blob/main/Assignment_Part_3.ipynb\" target=\"_parent\"><img src=\"https://colab.research.google.com/assets/colab-badge.svg\" alt=\"Open In Colab\"/></a>"
      ]
    },
    {
      "cell_type": "code",
      "execution_count": null,
      "metadata": {
        "id": "XLrz6z11NNvb"
      },
      "outputs": [],
      "source": []
    },
    {
      "cell_type": "markdown",
      "source": [
        "## **Topic 3: Tuples (4 Questions)**\n",
        "\n",
        "---\n",
        "\n",
        "### **Q11. Create and Print Tuple**\n",
        "\n",
        "**Description:**\n",
        "\n",
        "Take `N` integers as input and store them in a tuple, then print the tuple.\n",
        "\n",
        "We can store `N` Integer in a tuple name `nums`.\n",
        "\n",
        "Note:\n",
        "\n",
        "- We can take input from the user using `input()`.\n",
        "- We can also directly take input as an Integer from the user using `int(input())`.\n",
        "\n",
        "**For example, Input:**\n",
        "\n",
        "```\n",
        "\n",
        "  \n",
        "nums = (1, 2, 3, 4)\n",
        "\n",
        "```\n",
        "\n",
        "**Output:**\n",
        "\n",
        "```\n",
        "  \n",
        "(1, 2, 3, 4)\n",
        "\n",
        "```\n",
        "\n",
        "---\n",
        "\n"
      ],
      "metadata": {
        "id": "51bTUXgTNP0M"
      }
    },
    {
      "cell_type": "code",
      "source": [
        "nums = tuple([int(i) for i in input().split(\" \")])\n",
        "nums"
      ],
      "metadata": {
        "id": "1EzxxVHHNVGg",
        "outputId": "6de8715f-b400-43e5-bff1-f9fc9a8d652e",
        "colab": {
          "base_uri": "https://localhost:8080/"
        }
      },
      "execution_count": 4,
      "outputs": [
        {
          "name": "stdout",
          "output_type": "stream",
          "text": [
            "1 2 3 4\n"
          ]
        },
        {
          "output_type": "execute_result",
          "data": {
            "text/plain": [
              "(1, 2, 3, 4)"
            ]
          },
          "metadata": {},
          "execution_count": 4
        }
      ]
    },
    {
      "cell_type": "markdown",
      "source": [
        "### **Q12. Find Element in Tuple**\n",
        "\n",
        "**Description:**\n",
        "\n",
        "Check if a given element exists in the tuple.\n",
        "\n",
        "We can store `n` elements in a tuple name `nums` in order to check specific element which we can store in a variable name `element`.\n",
        "\n",
        "Note:\n",
        "\n",
        "- We can take input from the user using `input()`.\n",
        "- We can also directly take input as an Integer from the user using `int(input())`.\n",
        "\n",
        "**For example, Input:**\n",
        "\n",
        "```\n",
        "\n",
        "  \n",
        "nums = (10, 20, 30, 40, 50)\n",
        "element = 30\n",
        "\n",
        "```\n",
        "\n",
        "**Output:**\n",
        "\n",
        "```\n",
        "\n",
        "  \n",
        "Element Found\n",
        "\n",
        "```\n",
        "\n",
        "---\n",
        "\n"
      ],
      "metadata": {
        "id": "sAbjH9rVNWJJ"
      }
    },
    {
      "cell_type": "code",
      "source": [
        "nums = tuple([int(i) for i in input().split(\" \")])\n",
        "element = int(input())\n",
        "print(\"Element Found\") if element in nums else print(\"\")"
      ],
      "metadata": {
        "id": "W__VknxiNYn1",
        "outputId": "e36cb7ca-f654-4b6a-ffba-ba070bc46131",
        "colab": {
          "base_uri": "https://localhost:8080/"
        }
      },
      "execution_count": 6,
      "outputs": [
        {
          "output_type": "stream",
          "name": "stdout",
          "text": [
            "10 20 30 40 50\n",
            "60\n",
            "\n"
          ]
        }
      ]
    },
    {
      "cell_type": "markdown",
      "source": [
        "### **Q13. Tuple Length**\n",
        "\n",
        "**Description:**\n",
        "\n",
        "Find the length of a tuple.\n",
        "\n",
        "We can store tuple as `tups`.\n",
        "\n",
        "Note:\n",
        "\n",
        "- We can take input from the user using `input()`.\n",
        "- We can also directly take input as an Integer from the user using `int(input())`.\n",
        "\n",
        "**Input:**\n",
        "\n",
        "```\n",
        "\n",
        "  \n",
        "tups = (7, 8, 9)\n",
        "\n",
        "```\n",
        "\n",
        "**Output:**\n",
        "\n",
        "```\n",
        "  \n",
        "3\n",
        "\n",
        "```\n",
        "\n",
        "---\n",
        "\n"
      ],
      "metadata": {
        "id": "1lq2lXuBNZMg"
      }
    },
    {
      "cell_type": "code",
      "source": [
        "tups = tuple([int(i) for i in input().split(\" \")])\n",
        "print(len(tups))"
      ],
      "metadata": {
        "id": "zMFeBtEyNbVH",
        "outputId": "f72c7e6a-d580-40a0-ca48-84ca5f432547",
        "colab": {
          "base_uri": "https://localhost:8080/"
        }
      },
      "execution_count": 7,
      "outputs": [
        {
          "output_type": "stream",
          "name": "stdout",
          "text": [
            "7 8 9\n",
            "3\n"
          ]
        }
      ]
    },
    {
      "cell_type": "markdown",
      "source": [
        "### **Q14. Count Occurrences in Tuple**\n",
        "\n",
        "**Description:**\n",
        "\n",
        "Count how many times a given number appears in the tuple.\n",
        "\n",
        "We can store numbers in a tuple `nums` in order to find how many times a specific number appeared in it which we can store in variable name `number`.\n",
        "\n",
        "Note:\n",
        "\n",
        "- We can take input from the user using `input()`.\n",
        "- We can also directly take input as an Integer from the user using `int(input())`.\n",
        "\n",
        "**Input:**\n",
        "\n",
        "```\n",
        "\n",
        "  \n",
        "nums = (1, 2, 2, 3, 4, 2)\n",
        "number = 2\n",
        "\n",
        "```\n",
        "\n",
        "**Output:**\n",
        "\n",
        "```\n",
        "  \n",
        "3\n",
        "\n",
        "```"
      ],
      "metadata": {
        "id": "_fRPWN0PNb7c"
      }
    },
    {
      "cell_type": "code",
      "source": [
        "nums = tuple([int(i) for i in input().split(\" \")])\n",
        "number = int(input())\n",
        "cnt = 0\n",
        "for num in nums:\n",
        "  if num == number:\n",
        "    cnt += 1\n",
        "print(cnt)"
      ],
      "metadata": {
        "id": "WdfKw5YGNcNa",
        "outputId": "78874a3e-6324-48f9-e502-3e18b15f940e",
        "colab": {
          "base_uri": "https://localhost:8080/"
        }
      },
      "execution_count": 8,
      "outputs": [
        {
          "output_type": "stream",
          "name": "stdout",
          "text": [
            "1 2 2 3 4 2\n",
            "2\n",
            "3\n"
          ]
        }
      ]
    },
    {
      "cell_type": "code",
      "source": [],
      "metadata": {
        "id": "1mX-nq6p3d7C"
      },
      "execution_count": null,
      "outputs": []
    }
  ]
}