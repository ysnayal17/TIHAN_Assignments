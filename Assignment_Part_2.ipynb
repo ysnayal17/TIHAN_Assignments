{
  "nbformat": 4,
  "nbformat_minor": 0,
  "metadata": {
    "colab": {
      "provenance": [],
      "include_colab_link": true
    },
    "kernelspec": {
      "name": "python3",
      "display_name": "Python 3"
    },
    "language_info": {
      "name": "python"
    }
  },
  "cells": [
    {
      "cell_type": "markdown",
      "metadata": {
        "id": "view-in-github",
        "colab_type": "text"
      },
      "source": [
        "<a href=\"https://colab.research.google.com/github/ysnayal17/TIHAN_Assignments/blob/main/Assignment_Part_2.ipynb\" target=\"_parent\"><img src=\"https://colab.research.google.com/assets/colab-badge.svg\" alt=\"Open In Colab\"/></a>"
      ]
    },
    {
      "cell_type": "code",
      "execution_count": null,
      "metadata": {
        "id": "0eM5sUuwkBlh"
      },
      "outputs": [],
      "source": []
    },
    {
      "cell_type": "markdown",
      "source": [
        "## **Topic 2: Lists (5 Questions)**\n",
        "\n",
        "---\n",
        "\n",
        "### **Q6. Find Maximum in a List**\n",
        "\n",
        "**Description:**\n",
        "\n",
        "Take `N` integers in a list and print the maximum number.\n",
        "\n",
        "We can store a given `N` Integer in a list name `numbers`.\n",
        "\n",
        "Note:\n",
        "\n",
        "- We can take input from the user using `input()`.\n",
        "- We can also directly take input as an Integer from the user using `int(input())`.\n",
        "\n",
        "**For example, Input:**\n",
        "\n",
        "```\n",
        "\n",
        "  \n",
        "numbers = [10, 3, 25, 8, 7]\n",
        "\n",
        "```\n",
        "\n",
        "**Output:**\n",
        "\n",
        "```\n",
        "  \n",
        "25\n",
        "\n",
        "```\n",
        "\n",
        "---\n",
        "\n"
      ],
      "metadata": {
        "id": "odPHXrtmM3-p"
      }
    },
    {
      "cell_type": "code",
      "source": [
        "numbers = [int(i) for i in input().split(\" \")]\n",
        "print(max(numbers))"
      ],
      "metadata": {
        "id": "qDYmT2pDM9kM",
        "outputId": "10c43f78-d825-4696-8b21-addf8e226ade",
        "colab": {
          "base_uri": "https://localhost:8080/"
        }
      },
      "execution_count": 2,
      "outputs": [
        {
          "output_type": "stream",
          "name": "stdout",
          "text": [
            "10 3 25 8 7\n",
            "25\n"
          ]
        }
      ]
    },
    {
      "cell_type": "markdown",
      "source": [
        "### **Q7. Reverse a List**\n",
        "\n",
        "**Description:**\n",
        "\n",
        "Take a list of numbers and print it in reverse order.\n",
        "\n",
        "We can store a given `N` numbers in a list name `numbers`.\n",
        "\n",
        "Note:\n",
        "\n",
        "- We can take input from the user using `input()`.\n",
        "- We can also directly take input as an Integer from the user using `int(input())`.\n",
        "\n",
        "**For example, Input:**\n",
        "\n",
        "```\n",
        "\n",
        "  \n",
        "numbers = [1, 2, 3, 4]\n",
        "\n",
        "```\n",
        "\n",
        "**Output:**\n",
        "\n",
        "```\n",
        "csharp\n",
        "  \n",
        "[4, 3, 2, 1]\n",
        "\n",
        "```\n",
        "\n",
        "---\n",
        "\n"
      ],
      "metadata": {
        "id": "C5iGTNbjM-IE"
      }
    },
    {
      "cell_type": "code",
      "source": [
        "numbers = [int(i) for i in input().split(\" \")]\n",
        "numbers.reverse()\n",
        "numbers"
      ],
      "metadata": {
        "id": "44VY89f0NAxo",
        "outputId": "c542f395-668b-4578-e25f-685ed476691a",
        "colab": {
          "base_uri": "https://localhost:8080/"
        }
      },
      "execution_count": 6,
      "outputs": [
        {
          "name": "stdout",
          "output_type": "stream",
          "text": [
            "1 2 3 4\n"
          ]
        },
        {
          "output_type": "execute_result",
          "data": {
            "text/plain": [
              "[4, 3, 2, 1]"
            ]
          },
          "metadata": {},
          "execution_count": 6
        }
      ]
    },
    {
      "cell_type": "markdown",
      "source": [
        "### **Q8. Real-World Use Case: Shopping Cart Total**\n",
        "\n",
        "**Description:**\n",
        "\n",
        "You are building an **e-commerce app**. Calculate the total price of all items in the cart.\n",
        "\n",
        "We can store a given `N` Items price in a list name `prices`.\n",
        "\n",
        "Note:\n",
        "\n",
        "- We can take input from the user using `input()`.\n",
        "- We can also directly take input as an Integer from the user using `int(input())`.\n",
        "\n",
        "**For example, Input:**\n",
        "\n",
        "```\n",
        "\n",
        "  \n",
        "prices = [100, 200, 50]\n",
        "\n",
        "```\n",
        "\n",
        "**Output:**\n",
        "\n",
        "```\n",
        "   \n",
        "  \n",
        "Total: 350\n",
        "\n",
        "```\n",
        "\n",
        "---\n",
        "\n"
      ],
      "metadata": {
        "id": "D6NbG49UNBbp"
      }
    },
    {
      "cell_type": "code",
      "source": [
        "prices = [int(i) for i in input().split(\" \")]\n",
        "print(f\"Total: {sum(prices)}\")"
      ],
      "metadata": {
        "id": "tS0X6vgoNEQX",
        "outputId": "4140e93f-b2b9-439c-b756-870db7d861c0",
        "colab": {
          "base_uri": "https://localhost:8080/"
        }
      },
      "execution_count": 8,
      "outputs": [
        {
          "output_type": "stream",
          "name": "stdout",
          "text": [
            "100 200 50\n",
            "Total: 350\n"
          ]
        }
      ]
    },
    {
      "cell_type": "markdown",
      "source": [
        "### **Q9. Real-World Use Case: Temperature Records**\n",
        "\n",
        "**Description:**\n",
        "\n",
        "Store **7 days of temperature data** in a list and print the highest temperature.\n",
        "\n",
        "We can store a given 7 days of temperature in a list name `temps`.\n",
        "\n",
        "Note:\n",
        "\n",
        "- We can take input from the user using `input()`.\n",
        "- We can also directly take input as an Integer from the user using `int(input())`.\n",
        "\n",
        "**For example, Input:**\n",
        "\n",
        "```\n",
        "\n",
        "  \n",
        "temps = [30, 32, 29, 35, 33, 31, 28]\n",
        "\n",
        "```\n",
        "\n",
        "**Output:**\n",
        "\n",
        "```\n",
        "  \n",
        "35\n",
        "\n",
        "```\n",
        "\n",
        "---\n",
        "\n"
      ],
      "metadata": {
        "id": "0u-gCvmaNE1O"
      }
    },
    {
      "cell_type": "code",
      "source": [
        "temps = [int(i) for i in input().split(\" \")]\n",
        "print(max(temps))"
      ],
      "metadata": {
        "id": "GDiWxARhNHNa",
        "outputId": "ab61379c-e0ba-4a8f-a63e-59dc06e2e424",
        "colab": {
          "base_uri": "https://localhost:8080/"
        }
      },
      "execution_count": 9,
      "outputs": [
        {
          "output_type": "stream",
          "name": "stdout",
          "text": [
            "30 32 29 35 33 31 28\n",
            "35\n"
          ]
        }
      ]
    },
    {
      "cell_type": "markdown",
      "source": [
        "### **Q10. Real-World Use Case: Student Marks Analysis**\n",
        "\n",
        "**Description:**\n",
        "\n",
        "Take marks of 5 students in a list and print the average.\n",
        "\n",
        "We can store 5 students marks in a list name `marks`.\n",
        "\n",
        "Note:\n",
        "\n",
        "- We can take input from the user using `input()`.\n",
        "- We can also directly take input as an Integer from the user using `int(input())`.\n",
        "\n",
        "**For example, Input:**\n",
        "\n",
        "```\n",
        "\n",
        "  \n",
        "marks = [80, 90, 85, 70, 95]\n",
        "\n",
        "```\n",
        "\n",
        "**Output:**\n",
        "\n",
        "```\n",
        "   \n",
        "  \n",
        "Average: 84.0\n",
        "\n",
        "```"
      ],
      "metadata": {
        "id": "zxnBLGUQNH8W"
      }
    },
    {
      "cell_type": "code",
      "source": [
        "marks = [int(i) for i in input().split(\" \")]\n",
        "avg = sum(marks)/len(marks)\n",
        "print(f\"Average: {avg}\")\n",
        "print(\"%.2f\" % avg)"
      ],
      "metadata": {
        "id": "ygojW_VWNIUM",
        "outputId": "3b41e643-f505-4f26-993b-7f91ee7eef26",
        "colab": {
          "base_uri": "https://localhost:8080/"
        }
      },
      "execution_count": 13,
      "outputs": [
        {
          "output_type": "stream",
          "name": "stdout",
          "text": [
            "2 3 5\n",
            "Average: 3.3333333333333335\n",
            "3.33\n"
          ]
        }
      ]
    },
    {
      "cell_type": "code",
      "source": [],
      "metadata": {
        "id": "7MN24ArDygaB"
      },
      "execution_count": null,
      "outputs": []
    }
  ]
}