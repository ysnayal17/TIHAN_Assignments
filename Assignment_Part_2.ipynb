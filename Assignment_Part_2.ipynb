{
  "nbformat": 4,
  "nbformat_minor": 0,
  "metadata": {
    "colab": {
      "provenance": [],
      "include_colab_link": true
    },
    "kernelspec": {
      "name": "python3",
      "display_name": "Python 3"
    },
    "language_info": {
      "name": "python"
    }
  },
  "cells": [
    {
      "cell_type": "markdown",
      "metadata": {
        "id": "view-in-github",
        "colab_type": "text"
      },
      "source": [
        "<a href=\"https://colab.research.google.com/github/ysnayal17/TIHAN_Assignments/blob/main/Assignment_Part_2.ipynb\" target=\"_parent\"><img src=\"https://colab.research.google.com/assets/colab-badge.svg\" alt=\"Open In Colab\"/></a>"
      ]
    },
    {
      "cell_type": "code",
      "execution_count": null,
      "metadata": {
        "id": "0eM5sUuwkBlh"
      },
      "outputs": [],
      "source": []
    },
    {
      "cell_type": "markdown",
      "source": [
        "## **Topic 2: Lists (5 Questions)**\n",
        "\n",
        "---\n",
        "\n",
        "### **Q6. Find Maximum in a List**\n",
        "\n",
        "**Description:**\n",
        "\n",
        "Take `N` integers in a list and print the maximum number.\n",
        "\n",
        "We can store a given `N` Integer in a list name `numbers`.\n",
        "\n",
        "Note:\n",
        "\n",
        "- We can take input from the user using `input()`.\n",
        "- We can also directly take input as an Integer from the user using `int(input())`.\n",
        "\n",
        "**For example, Input:**\n",
        "\n",
        "```\n",
        "\n",
        "  \n",
        "numbers = [10, 3, 25, 8, 7]\n",
        "\n",
        "```\n",
        "\n",
        "**Output:**\n",
        "\n",
        "```\n",
        "  \n",
        "25\n",
        "\n",
        "```\n",
        "\n",
        "---\n",
        "\n"
      ],
      "metadata": {
        "id": "odPHXrtmM3-p"
      }
    },
    {
      "cell_type": "code",
      "source": [],
      "metadata": {
        "id": "qDYmT2pDM9kM"
      },
      "execution_count": null,
      "outputs": []
    },
    {
      "cell_type": "markdown",
      "source": [
        "### **Q7. Reverse a List**\n",
        "\n",
        "**Description:**\n",
        "\n",
        "Take a list of numbers and print it in reverse order.\n",
        "\n",
        "We can store a given `N` numbers in a list name `numbers`.\n",
        "\n",
        "Note:\n",
        "\n",
        "- We can take input from the user using `input()`.\n",
        "- We can also directly take input as an Integer from the user using `int(input())`.\n",
        "\n",
        "**For example, Input:**\n",
        "\n",
        "```\n",
        "\n",
        "  \n",
        "numbers = [1, 2, 3, 4]\n",
        "\n",
        "```\n",
        "\n",
        "**Output:**\n",
        "\n",
        "```\n",
        "csharp\n",
        "  \n",
        "[4, 3, 2, 1]\n",
        "\n",
        "```\n",
        "\n",
        "---\n",
        "\n"
      ],
      "metadata": {
        "id": "C5iGTNbjM-IE"
      }
    },
    {
      "cell_type": "code",
      "source": [],
      "metadata": {
        "id": "44VY89f0NAxo"
      },
      "execution_count": null,
      "outputs": []
    },
    {
      "cell_type": "markdown",
      "source": [
        "### **Q8. Real-World Use Case: Shopping Cart Total**\n",
        "\n",
        "**Description:**\n",
        "\n",
        "You are building an **e-commerce app**. Calculate the total price of all items in the cart.\n",
        "\n",
        "We can store a given `N` Items price in a list name `prices`.\n",
        "\n",
        "Note:\n",
        "\n",
        "- We can take input from the user using `input()`.\n",
        "- We can also directly take input as an Integer from the user using `int(input())`.\n",
        "\n",
        "**For example, Input:**\n",
        "\n",
        "```\n",
        "\n",
        "  \n",
        "prices = [100, 200, 50]\n",
        "\n",
        "```\n",
        "\n",
        "**Output:**\n",
        "\n",
        "```\n",
        "   \n",
        "  \n",
        "Total: 350\n",
        "\n",
        "```\n",
        "\n",
        "---\n",
        "\n"
      ],
      "metadata": {
        "id": "D6NbG49UNBbp"
      }
    },
    {
      "cell_type": "code",
      "source": [],
      "metadata": {
        "id": "tS0X6vgoNEQX"
      },
      "execution_count": null,
      "outputs": []
    },
    {
      "cell_type": "markdown",
      "source": [
        "### **Q9. Real-World Use Case: Temperature Records**\n",
        "\n",
        "**Description:**\n",
        "\n",
        "Store **7 days of temperature data** in a list and print the highest temperature.\n",
        "\n",
        "We can store a given 7 days of temperature in a list name `temps`.\n",
        "\n",
        "Note:\n",
        "\n",
        "- We can take input from the user using `input()`.\n",
        "- We can also directly take input as an Integer from the user using `int(input())`.\n",
        "\n",
        "**For example, Input:**\n",
        "\n",
        "```\n",
        "\n",
        "  \n",
        "temps = [30, 32, 29, 35, 33, 31, 28]\n",
        "\n",
        "```\n",
        "\n",
        "**Output:**\n",
        "\n",
        "```\n",
        "  \n",
        "35\n",
        "\n",
        "```\n",
        "\n",
        "---\n",
        "\n"
      ],
      "metadata": {
        "id": "0u-gCvmaNE1O"
      }
    },
    {
      "cell_type": "code",
      "source": [],
      "metadata": {
        "id": "GDiWxARhNHNa"
      },
      "execution_count": null,
      "outputs": []
    },
    {
      "cell_type": "markdown",
      "source": [
        "### **Q10. Real-World Use Case: Student Marks Analysis**\n",
        "\n",
        "**Description:**\n",
        "\n",
        "Take marks of 5 students in a list and print the average.\n",
        "\n",
        "We can store 5 students marks in a list name `marks`.\n",
        "\n",
        "Note:\n",
        "\n",
        "- We can take input from the user using `input()`.\n",
        "- We can also directly take input as an Integer from the user using `int(input())`.\n",
        "\n",
        "**For example, Input:**\n",
        "\n",
        "```\n",
        "\n",
        "  \n",
        "marks = [80, 90, 85, 70, 95]\n",
        "\n",
        "```\n",
        "\n",
        "**Output:**\n",
        "\n",
        "```\n",
        "   \n",
        "  \n",
        "Average: 84.0\n",
        "\n",
        "```"
      ],
      "metadata": {
        "id": "zxnBLGUQNH8W"
      }
    },
    {
      "cell_type": "code",
      "source": [],
      "metadata": {
        "id": "ygojW_VWNIUM"
      },
      "execution_count": null,
      "outputs": []
    }
  ]
}